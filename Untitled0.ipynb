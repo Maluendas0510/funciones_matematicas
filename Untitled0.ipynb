{
  "nbformat": 4,
  "nbformat_minor": 0,
  "metadata": {
    "colab": {
      "provenance": [],
      "authorship_tag": "ABX9TyOxxXmIkaW1edMYQiIdinhg",
      "include_colab_link": true
    },
    "kernelspec": {
      "name": "python3",
      "display_name": "Python 3"
    },
    "language_info": {
      "name": "python"
    }
  },
  "cells": [
    {
      "cell_type": "markdown",
      "metadata": {
        "id": "view-in-github",
        "colab_type": "text"
      },
      "source": [
        "<a href=\"https://colab.research.google.com/github/Maluendas0510/funciones_matematicas/blob/main/Untitled0.ipynb\" target=\"_parent\"><img src=\"https://colab.research.google.com/assets/colab-badge.svg\" alt=\"Open In Colab\"/></a>"
      ]
    },
    {
      "cell_type": "code",
      "execution_count": 5,
      "metadata": {
        "id": "XlvS_0s2CK5c"
      },
      "outputs": [],
      "source": [
        "#importamos la libreria matplotlib y numpy y le asignamos un alias\n",
        "import numpy as np\n",
        "import matplotlib.pyplot as plt\n"
      ]
    },
    {
      "cell_type": "code",
      "source": [
        "# programa para graficar una recta ,con base en la encuacion ,\n",
        "#m es la pendiente de la recta\n",
        "#b es el punto de corte con el eje y\n",
        "\n",
        "\n",
        "#numero de puntos a graficar\n",
        "N=100\n",
        "\n",
        "#funcion para calcular los valores de y\n",
        "def funcion_lineal (m,b,x):\n",
        "  return m*x + b\n",
        "\n",
        "#input\n",
        "print(\"--------------------\")\n",
        "print(\"---FUNCION LINEAL---\")\n",
        "print(\"--------------------\")\n",
        "\n",
        "\n",
        "m=int(input(\"Digite el valor de la pendiente: \"))\n",
        "b=int(input(\"Digite el valor del punto de corte con el eje y : \"))\n",
        " \n",
        "#processing- grafica\n",
        "x=np.linspace(-10,10,num=N)\n",
        "y=funcion_lineal(m,b,x)\n",
        "\n",
        "plt.plot(x,y , color=\"r\")\n",
        "plt.xlabel(\"x\")\n",
        "plt.ylabel(\"y\")\n",
        "plt.title(\"funcion lineal : y=mx+b\")\n",
        "plt.grid()\n",
        "plt.axhline(y=0 ,color=\"b\")\n",
        "plt.show()"
      ],
      "metadata": {
        "id": "nPKS_oRMCfKH"
      },
      "execution_count": null,
      "outputs": []
    },
    {
      "cell_type": "code",
      "source": [],
      "metadata": {
        "id": "nroCc74BIn6S"
      },
      "execution_count": null,
      "outputs": []
    },
    {
      "cell_type": "code",
      "source": [],
      "metadata": {
        "id": "ccVlXgLMLWK0"
      },
      "execution_count": null,
      "outputs": []
    },
    {
      "cell_type": "code",
      "source": [],
      "metadata": {
        "id": "vDeQPgF2L2tZ"
      },
      "execution_count": null,
      "outputs": []
    }
  ]
}