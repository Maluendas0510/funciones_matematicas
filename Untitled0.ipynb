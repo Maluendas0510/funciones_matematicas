{
  "nbformat": 4,
  "nbformat_minor": 0,
  "metadata": {
    "colab": {
      "provenance": [],
      "authorship_tag": "ABX9TyNaNiAmhTTOVv6IyLnsPNNK",
      "include_colab_link": true
    },
    "kernelspec": {
      "name": "python3",
      "display_name": "Python 3"
    },
    "language_info": {
      "name": "python"
    }
  },
  "cells": [
    {
      "cell_type": "markdown",
      "metadata": {
        "id": "view-in-github",
        "colab_type": "text"
      },
      "source": [
        "<a href=\"https://colab.research.google.com/github/Maluendas0510/funciones_matematicas/blob/main/Untitled0.ipynb\" target=\"_parent\"><img src=\"https://colab.research.google.com/assets/colab-badge.svg\" alt=\"Open In Colab\"/></a>"
      ]
    },
    {
      "cell_type": "code",
      "source": [
        "import numpy as np\n",
        "import matplotlib.pyplot as plt"
      ],
      "metadata": {
        "id": "kIUNljiwORiQ"
      },
      "execution_count": 7,
      "outputs": []
    },
    {
      "cell_type": "code",
      "execution_count": null,
      "metadata": {
        "id": "UDyzyaF-OMLH"
      },
      "outputs": [],
      "source": [
        "\n",
        "# programa para graficar una recta ,con base en la encuacion ,\n",
        "#m es la pendiente de la recta\n",
        "#b es el punto de corte con el eje y\n",
        "\n",
        "\n",
        "print(\"----------------------------\")\n",
        "print(\"-----funciones:----\")\n",
        "\n",
        "\n",
        "\n",
        "\n",
        "\n",
        "print(\"\\nDame la opcion que deseas realizar:\\n\")\n",
        "print(\"-----------------------------\")\n",
        "print(\"--1.FUNCION LNEAL------------\")\n",
        "print(\"--2.FUNCION CUADRATICA-------\")\n",
        "print(\"--3.FUNCION CUBICA-----------\")\n",
        "print(\"--4.FUNCION EXPONENCIAL------\")\n",
        "print(\"--5.FUNCION LOGARITMICA------\")\n",
        "print(\"--6.FUNCION TRIGONOMETRICAS--\")\n",
        "print(\"--7.FUNCION RAIZ-------------\")\n",
        "print(\"--8.FUNCION VALOR ABSOLUTO---\")\n",
        "\n",
        "opcion=int(input(\"\\nDame la opcion:\"))\n",
        "\n",
        "if (opcion==1):\n",
        "  N=100\n",
        "\n",
        "  #funcion para calcular los valores de y\n",
        "  def funcion_lineal (m,b,x):\n",
        "    return m*x + b\n",
        "\n",
        "  m=int(input(\"Digite el valor de la pendiente: \"))\n",
        "  b=int(input(\"Digite el valor del punto de corte con el eje y : \"))\n",
        " \n",
        "  #processing- grafica\n",
        "  x=np.linspace(-10,10,num=N)\n",
        "  y=funcion_lineal(m,b,x)\n",
        "\n",
        "  plt.plot(x,y , color=\"r\")\n",
        "  plt.xlabel(\"x\")\n",
        "  plt.ylabel(\"y\")\n",
        "  plt.title(\"funcion lineal : y=mx+b\")\n",
        "  plt.grid()\n",
        "  plt.axhline(y=0 ,color=\"b\")\n",
        "  plt.show()\n",
        "\n",
        "elif (opcion ==2):\n",
        "# funcion cuadratica\n",
        "  N=100\n",
        "\n",
        "  def funcion_cuadratica (a,b,x,c):\n",
        "    return a*(x**2)+(b*x)+c\n",
        "\n",
        "  a=int(input(\"Digite el valor de a: \"))\n",
        "  b=int(input(\"Digite el valor de b : \"))\n",
        "  c=int(input(\"Digite el valor de c: \"))\n",
        " \n",
        "  #processing- grafica\n",
        "  x=np.linspace(-10,10,num=N)\n",
        "  y=funcion_cuadratica(a,b,x,c)\n",
        "\n",
        "  plt.plot(x,y , color=\"r\")\n",
        "  plt.xlabel(\"x\")\n",
        "  plt.ylabel(\"y\")\n",
        "  plt.title(\"funcion cuadratica y = Ax**2 +b*x +c \")\n",
        "  plt.grid()\n",
        "  plt.axhline(y=0 ,color=\"b\")\n",
        "  plt.show()\n",
        "\n",
        "\n",
        "elif (opcion ==3):\n",
        "# funcion cubica\n",
        "  N=100\n",
        "\n",
        "  def funcion_cubica (a,b,x,c,d):\n",
        "    return a*(x**3)+b*(x**2)+(c*x)+d\n",
        "\n",
        "  a=int(input(\"Digite el valor de a: \"))\n",
        "  b=int(input(\"Digite el valor de b : \"))\n",
        "  c=int(input(\"Digite el valor de c: \"))\n",
        "  d=int(input(\"Digite el valor de d: \"))\n",
        "    \n",
        "  #processing- grafica\n",
        "  x=np.linspace(-10,10,num=N)\n",
        "  y=funcion_cubica(a,b,x,c,d)\n",
        "\n",
        "  plt.plot(x,y , color=\"r\")\n",
        "  plt.xlabel(\"x\")\n",
        "  plt.ylabel(\"y\")\n",
        "  plt.title(\"funcion cuadratica y = ax**3 +bx**2+cx+d \")\n",
        "  plt.grid()\n",
        "  plt.axhline(y=0 ,color=\"b\")\n",
        "\n",
        "  plt.show()\n",
        "\n",
        "\n",
        "\n",
        "\n",
        "\n",
        "\n",
        "\n"
      ]
    },
    {
      "cell_type": "code",
      "source": [],
      "metadata": {
        "id": "xiKnXUU3OQTf"
      },
      "execution_count": null,
      "outputs": []
    }
  ]
}